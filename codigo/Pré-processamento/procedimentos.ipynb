{
 "cells": [
  {
   "cell_type": "code",
   "execution_count": null,
   "metadata": {},
   "outputs": [],
   "source": [
    "import pandas as pd\n",
    "import numpy as np\n",
    "\n",
    "\n",
    "df = pd.read_pickle('C:/Users/Rafael/OneDrive/Documentos/TCC Rafaela/Dados/Pickle/cancer_mama_regiao_sudeste_sem_nulos.pickle')\n"
   ]
  },
  {
   "cell_type": "code",
   "execution_count": null,
   "metadata": {},
   "outputs": [],
   "source": [
    "# df['AP_CNSPCN'].head()\n",
    "\n",
    "pivot_table = pd.pivot_table(df, \n",
    "                             index=['AP_CNSPCN', 'AP_PRIPAL'], \n",
    "                             values=['AP_DTINIC', 'AQ_ESTADI'], \n",
    "                             aggfunc=['min', 'max'])\n",
    "pivot_table.head()"
   ]
  },
  {
   "cell_type": "code",
   "execution_count": null,
   "metadata": {},
   "outputs": [],
   "source": [
    "#Calcular a diferença do estadiamento entre os períodos\n",
    "\n",
    "pivot_table['dif_estadiamento'] = pivot_table[('max','AQ_ESTADI')]-pivot_table[('min','AQ_ESTADI')]\n",
    "\n",
    "#Contar a qauntidade de cada valor\n",
    "pivot_table['dif_estadiamento'].value_counts()"
   ]
  },
  {
   "cell_type": "code",
   "execution_count": null,
   "metadata": {},
   "outputs": [],
   "source": [
    "pivot_table = pd.pivot_table(df, \n",
    "                             index=['AP_CNSPCN'], \n",
    "                             values=['AP_DTINIC', 'AQ_ESTADI'], \n",
    "                             aggfunc=['min', 'max'])\n",
    "\n",
    "#Cálculo da Diferença entre o Máximo e Mínimo do Estadiamento\n",
    "pivot_table['dif_estadiamento'] = pivot_table[('max','AQ_ESTADI')]-pivot_table[('min','AQ_ESTADI')]\n",
    "pivot_table['dif_estadiamento'].value_counts()"
   ]
  },
  {
   "cell_type": "code",
   "execution_count": null,
   "metadata": {},
   "outputs": [],
   "source": [
    "# Renomear as colunas da tabela dinâmica\n",
    "pivot_table = pivot_table.set_axis(['inicio','estadiamento_inicio','fim','estadiamento_fim','dif_estadiamento'], axis=1)\n",
    "pivot_table.head()"
   ]
  },
  {
   "cell_type": "code",
   "execution_count": null,
   "metadata": {},
   "outputs": [],
   "source": [
    "# Merge da tabela pivotada e do dataset\n",
    "df = pd.merge(df, pivot_table, on=['AP_CNSPCN'], how='left')\n",
    "df.head()"
   ]
  },
  {
   "cell_type": "code",
   "execution_count": null,
   "metadata": {},
   "outputs": [],
   "source": [
    "# Pivotar tabela\n",
    "pivot_table = pd.pivot_table(df, \n",
    "                             index=['AP_CNSPCN', 'AP_PRIPAL'], \n",
    "                             values=['AP_DTINIC', 'AQ_ESTADI'], \n",
    "                             aggfunc=['min', 'max'])\n",
    "\n",
    "# Calcular o total de tratamento realizados pelo paciente\n",
    "total_tratamentos = pivot_table.reset_index().groupby('AP_CNSPCN')['AP_PRIPAL'].count()\n",
    "\n",
    "#Fazer o merge dessa coluna de total de tratamentos ao dataset.\n",
    "df = pd.merge(df, total_tratamentos, on=['AP_CNSPCN'], how='left')\n",
    "df.head()\n"
   ]
  },
  {
   "cell_type": "code",
   "execution_count": null,
   "metadata": {},
   "outputs": [],
   "source": [
    "# Renomeando as colunas\n",
    "df = df.rename(columns={'AP_PRIPAL_x': 'AP_PRIPAL'})\n",
    "df = df.rename(columns={'AP_PRIPAL_y': 'total_tratamentos'})\n",
    "df.head()"
   ]
  },
  {
   "cell_type": "code",
   "execution_count": null,
   "metadata": {},
   "outputs": [],
   "source": [
    "#Pivot da tabela\n",
    "pivot_table = pd.pivot_table(df, \n",
    "                             index=['AP_CNSPCN', 'AP_PRIPAL'], \n",
    "                             values=['AP_DTINIC'], \n",
    "                             aggfunc=['min', 'max'])\n",
    "procedimento_inicial = pivot_table.reset_index().groupby('AP_CNSPCN')['AP_PRIPAL'].first()\n",
    "\n",
    "# Obtendo o Primeiro Procedimento por Paciente\n",
    "df = pd.merge(df, procedimento_inicial, on=['AP_CNSPCN'], how='left')\n",
    "df.head()"
   ]
  },
  {
   "cell_type": "code",
   "execution_count": null,
   "metadata": {},
   "outputs": [],
   "source": [
    "#Renomear colunas \n",
    "df = df.rename(columns={'AP_PRIPAL_x': 'AP_PRIPAL'})\n",
    "df = df.rename(columns={'AP_PRIPAL_y': 'procedimento_inicial'})\n",
    "df.head()"
   ]
  },
  {
   "cell_type": "code",
   "execution_count": null,
   "metadata": {},
   "outputs": [],
   "source": [
    "# Criação da coluna Piora\n",
    "df['piora'] = df['dif_estadiamento'].apply(lambda x: 1 if x > 0 else 0)\n",
    "df['piora'].value_counts()\n",
    "\n",
    "#Indicador de óbito \n",
    "df['obito'] = df['AP_OBITO'].apply(lambda x: 1 if x > 0 else 0)\n",
    "df['obito'].value_counts()\n",
    "\n",
    "#Indicador de Alta \n",
    "df['alta'] = df['AP_ALTA'].apply(lambda x: 1 if x > 0 else 0)\n",
    "df['alta'].value_counts()\n",
    "\n",
    "#Indicador de Melhora\n",
    "df['melhora'] = df['AP_ENCERR'].apply(lambda x: 1 if x > 0 else 0)\n",
    "df['melhora'].value_counts()"
   ]
  },
  {
   "cell_type": "code",
   "execution_count": null,
   "metadata": {},
   "outputs": [],
   "source": [
    "#Pivot da tabela por CNS\n",
    "pivot_table = pd.pivot_table(df,\n",
    "                             index='AP_CNSPCN',\n",
    "                             values=['obito','piora','melhora','alta'],\n",
    "                             aggfunc='max'\n",
    "                             )\n",
    "pivot_table.head()"
   ]
  },
  {
   "cell_type": "code",
   "execution_count": null,
   "metadata": {},
   "outputs": [],
   "source": [
    "# Verificar desfecho do Paciente\n",
    "def verifica_desfecho(obito, piora, melhora, alta):\n",
    "    if(obito > 0 ):\n",
    "        return 'Óbito'\n",
    "    elif(piora > 0 ):\n",
    "        return 'Piora'\n",
    "    elif(melhora > 0):\n",
    "        return 'Melhora'\n",
    "    elif(alta > 0):\n",
    "        return 'Alta'\n",
    "    else:\n",
    "        return 'SemDesfecho'\n",
    "\n",
    "#Criar coluna com esse desfecho\n",
    "df['desfecho'] = np.vectorize(verifica_desfecho)(df['obito'], df['piora'], df['melhora'], df['alta'])\n",
    "df['desfecho'].value_counts()"
   ]
  },
  {
   "cell_type": "code",
   "execution_count": null,
   "metadata": {},
   "outputs": [],
   "source": [
    "df.drop(columns=['AP_OBITO', 'AP_ENCERR', 'AP_PERMAN', 'AP_ALTA'], inplace=True)\n",
    "\n",
    "df.head()"
   ]
  },
  {
   "cell_type": "code",
   "execution_count": null,
   "metadata": {},
   "outputs": [],
   "source": [
    "pivot_table['desfecho'] = np.vectorize(verifica_desfecho)(pivot_table['obito'], pivot_table['piora'], pivot_table['melhora'], pivot_table['alta'])\n",
    "pivot_table['desfecho'].value_counts()\n",
    "df = pd.merge(df, pivot_table, on='AP_CNSPCN', how='left')"
   ]
  },
  {
   "cell_type": "code",
   "execution_count": null,
   "metadata": {},
   "outputs": [],
   "source": [
    "# Renomear a coluna\n",
    "df = df.rename(columns={'desfecho_y': 'desfecho'})\n",
    "df.head()"
   ]
  },
  {
   "cell_type": "code",
   "execution_count": null,
   "metadata": {},
   "outputs": [],
   "source": [
    "# Remover linhas sem desfecho\n",
    "df = df.loc[df['desfecho'] != 'SemDesfecho',:]"
   ]
  },
  {
   "cell_type": "code",
   "execution_count": null,
   "metadata": {},
   "outputs": [],
   "source": [
    "# Excluindo as colunas 'AQ_ESQU_P1' e 'AQ_ESQU_P2'\n",
    "df.drop(columns=['piora_x',\t'obito_x',\t'alta_x',\t'melhora_x',\t'desfecho_x',\t'alta_y',\t'melhora_y',\t'obito_y',\t'piora_y'], inplace=True)\n",
    "\n",
    "df.head()"
   ]
  },
  {
   "cell_type": "code",
   "execution_count": null,
   "metadata": {},
   "outputs": [],
   "source": [
    "# Pivot da Tabela para pegar max e min da idade\n",
    "pivot_table = pd.pivot_table(data=df,\n",
    "                             index='AP_CNSPCN',\n",
    "                             values=['AP_DTINIC', 'AP_NUIDADE'],\n",
    "                             aggfunc=['min','max'])\n",
    "\n",
    "#Renomeação das colunas\n",
    "pivot_table = pivot_table.set_axis(['AP_DTINIC_min', 'idade_inicial', 'AP_DTINIC_max', 'idade_max'], axis=1)\n",
    "\n",
    "#Merge com o dataset\n",
    "df = pd.merge(df, pivot_table, on='AP_CNSPCN', how='left')\n",
    "df.head()"
   ]
  },
  {
   "cell_type": "code",
   "execution_count": null,
   "metadata": {},
   "outputs": [],
   "source": [
    "# Excluindo as colunas \n",
    "df.drop(columns=['AP_DTINIC_min',\t'AP_DTINIC_max'], inplace=True)\n",
    "\n",
    "df.head()"
   ]
  }
 ],
 "metadata": {
  "language_info": {
   "name": "python"
  }
 },
 "nbformat": 4,
 "nbformat_minor": 2
}
