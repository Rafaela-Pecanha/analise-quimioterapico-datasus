{
 "cells": [
  {
   "cell_type": "code",
   "execution_count": 2,
   "metadata": {},
   "outputs": [],
   "source": [
    "import pandas as pd\n",
    "\n",
    "df = pd.read_pickle('C:/Users/Rafael/OneDrive/Documentos/TCC Rafaela/Dados/Pickle/cancer_mama_regiao_sudeste_sem_nulos.pickle')"
   ]
  },
  {
   "cell_type": "code",
   "execution_count": 3,
   "metadata": {},
   "outputs": [
    {
     "name": "stdout",
     "output_type": "stream",
     "text": [
      "['ES' 'MG' 'BA' 'RJ' 'SC' 'RO' 'AL' 'SP' 'PR' 'RS' 'CE' 'RR' 'PA' 'MS'\n",
      " 'RN' 'MT' 'MA' 'AC' 'SE' 'DF' 'TO' 'PE' 'PI' 'AM' 'PB' 'AP']\n"
     ]
    }
   ],
   "source": [
    "# Função para limitar a dois primeiros números\n",
    "df['AP_MUNPCN'] = df['AP_MUNPCN'].apply(lambda x: int(str(x)[:2]))\n",
    "df['AP_UFMUN'] = df['AP_UFMUN'].apply(lambda x: int(str(x)[:2]))\n",
    "\n",
    "# Dicionário de códigos da Unidade da Federação para siglas dos estados\n",
    "uf_dict = {\n",
    "    11: 'RO', 12: 'AC', 13: 'AM', 14: 'RR', 15: 'PA', 16: 'AP', 17:'TO',   \n",
    "    21: 'MA', 22: 'PI', 23: 'CE', 24: 'RN', 25:'PB', 26:'PE', 27: 'AL', 28:'SE', 29: 'BA', \n",
    "    31: 'MG', 32: 'ES', 33: 'RJ', 35: 'SP',\n",
    "    41: 'PR',  42: 'SC', 43: 'RS', \n",
    "    50:'MS', 51:'MT', 52: 'RS', 53: 'DF'\n",
    "}\n",
    "\n",
    "# Substituindo os códigos pelos valores de sigla do estado\n",
    "df['AP_MUNPCN'] = df['AP_MUNPCN'].map(uf_dict)\n",
    "df['AP_UFMUN'] = df['AP_UFMUN'].map(uf_dict)\n",
    "\n",
    "\n",
    "valores_unicos = df['AP_MUNPCN'].unique()\n",
    "print(valores_unicos)\n",
    "\n",
    "\n"
   ]
  },
  {
   "cell_type": "code",
   "execution_count": 26,
   "metadata": {},
   "outputs": [
    {
     "name": "stdout",
     "output_type": "stream",
     "text": [
      "['GX' 'G2' 'G3' 'G1' 'G4' '1' '4' '3' '2' '7' '5' '6' '04' '9' '10' '8'\n",
      " '11' '0' '03' '06' '01' '02' '09' '00' 'II' 'I' 'X' '20' 'Nã' '07' 'SG'\n",
      " 'G' 'GH' 'B2' '2B' 'S' 'X0' '22' '08' '30' '31' '3C' '27' '60' 'N' 'G6'\n",
      " 'B1' 'XX' 'O' 'G0' 'A' '05' '12' 'B' 'A2' '24' '32' '2S' '21' '3]' 'AL'\n",
      " '2A' 'C2' 'G7' '25' 'GL' '1A' 'S0' '3A' '23' '33' '2N' 'Ba' '0,' ',0'\n",
      " '52' 'Al' 'NT' '16' 'C' '26' 'M¿' '71' 'CH' '40' '91' '14' 'Desconhecido'\n",
      " 'BX' 'IV' '28' '81' 'OO' 'GI' '13' '4G' '0X' '3G' 'BA' 'GG' '0-' 'X2'\n",
      " 'NI' 'N0' '50' 'X3' '99' 'G8' '0I' '18' '??' '29' '19' '--' '41' '4N' '.'\n",
      " '15' '42' 'GE' '61' 'I0' '-' 'C1' '1S' 'D2' 'T4' '43' ',2' '17' '1N' '2,'\n",
      " 'N1' 'V' ',' '1I' '2G' '62' '1G' '35' 'IA' '3B' 'F1' 'XS' 'X1' '51' '-*'\n",
      " 'N3' 'GT' 'G5' 'X4' 'G9' '.X' '80' '63' 'Z' '2X' 'C5' 'F2' 'GC' '36' ',4'\n",
      " 'CA' '1X' '..' 'T2' 'EC' 'E' '4A' '49' 'g' 'GZ' 'HX' 'AD' '9*' 'BD' 'PD'\n",
      " 'GR' 'ad' 'NE' 'Ad' 'X.' 'EG' 'GJ' 'HE' 'gr' 'MO' 'M' 'AG' '44' 'MD' 'NO'\n",
      " 'T1' 'MA' '90' 'TA' 'SC' 'B3' 'GV' 'DG' 'GN' 'P2' 'VA' 'ID' '3,' 'PT'\n",
      " '1B' '2P' '9G' 'AR' 'H1' 'EI' 'AN' 'CI' 'T3' 'YP' 'TX' '0+' 'P3' 'H3'\n",
      " '2]' 'H2' 'F3' 'C3' '2M' 'LA' 'E1' 'IB' 'LU' 'XG' 'NÒ' '9X' '~G' '7B'\n",
      " '2C' 'ND' 'CD' '3S' '0S' '0\\\\' '0N' '0.' 'gx' '2I' '92' 'S2' 'S1' 'N2'\n",
      " 'J' 'B?' '4B' '45' 'UV' 'GB' 'VB' 'CX' 'FX' '1,' 'GF' 'GA' '2.' 'N/' '3N'\n",
      " 'BG' 'SI' ',,' 'IN' 'I1' 'I2' '+3' '4I' 'NC' 'MX' 'NM' 'MC' 'MN' 'ZX'\n",
      " 'CC' '4C' '3X' 'TG' 'xx' '1]' '4S' 'x' '70' ']X' 'GO' ',G']\n"
     ]
    }
   ],
   "source": [
    "# Verificar a quantidade de valores únicos na coluna 'AP_RACACOR'\n",
    "quantidade_unicos = df['AQ_GRAHIS'].unique()\n",
    "\n",
    "# Exibir a quantidade de valores únicos\n",
    "print(quantidade_unicos)\n"
   ]
  },
  {
   "cell_type": "code",
   "execution_count": 23,
   "metadata": {},
   "outputs": [
    {
     "name": "stdout",
     "output_type": "stream",
     "text": [
      "7     2008\n",
      "12    2008\n",
      "13    2008\n",
      "15    2008\n",
      "23    2008\n",
      "Name: Ano, dtype: object\n"
     ]
    }
   ],
   "source": [
    "\n",
    "# Visualizar os 5 primeiros valores da coluna 'a'\n",
    "print(df['Ano'].head())"
   ]
  },
  {
   "cell_type": "code",
   "execution_count": null,
   "metadata": {},
   "outputs": [
    {
     "name": "stdout",
     "output_type": "stream",
     "text": [
      "     Ano                             graus_histopatologicos\n",
      "0   2008  [GX, G2, G3, G1, G4, 03, 06, 01, 02, 09, 00, 4...\n",
      "1   2009  [G3, G2, GX, G1, G4, 1, 4, 3, 2, 00, 03, 02, 0...\n",
      "2   2010  [GX, G1, G2, 1, 4, 3, G3, 2, G4, 7, 02, 0, II,...\n",
      "3   2011  [4, GX, G2, G1, G3, 1, 3, 2, G4, 7, 02, 15, 03...\n",
      "4   2012  [G2, GX, 2, 3, 1, G3, 4, G1, G4, 02, 01, 00, 0...\n",
      "5   2013  [2, 1, GX, G2, G3, 4, 3, G1, G4, 5, 01, 02, 03...\n",
      "6   2014  [3, GX, 1, G2, G3, 4, 2, G1, 10, 9, 02, 8, 03,...\n",
      "7   2015  [GX, 2, G1, 3, G3, 1, G2, G4, 4, 5, 6, 7, 0, 0...\n",
      "8   2016  [3, 4, 1, G3, GX, G2, 2, G1, 5, 6, G4, 0, 03, ...\n",
      "9   2017  [GX, G2, 3, G3, 4, 1, 2, G1, 5, 6, G4, 03, 01,...\n",
      "10  2018  [GX, 3, 4, G2, 1, G3, 2, G1, 5, 6, G4, 9, 02, ...\n",
      "11  2019  [G2, GX, 3, 4, 1, 2, G3, G1, 6, 5, 04, 8, 03, ...\n",
      "12  2020  [GX, 3, 1, 2, 4, G3, G2, G1, 6, 5, G4, 9, G6, ...\n",
      "13  2021  [G2, 2, 3, G3, 1, G1, GX, 5, 4, G4, 6, 9, 01, ...\n",
      "14  2022  [3, GX, G2, 1, 4, 2, G3, G1, 5, G4, 6, 9, 10, ...\n",
      "15  2023  [G3, 3, 2, 5, G2, GX, 4, 1, G1, 6, G4, 9, 10, ...\n",
      "16  2024  [9, 2, 3, 1, 4, G2, G1, GX, 5, 10, G3, 8, 11, ...\n"
     ]
    }
   ],
   "source": [
    "# Passo 1: Extraímos o ano da coluna 'ano_mes'\n",
    "df['Ano'] = df['AP_DTINIC'].astype(str).str[:4]\n",
    "\n",
    "# Passo 2: Agrupar por ano e listar os graus histopatológicos\n",
    "tabela_agrupada = df.groupby(['Ano']).agg(\n",
    "    graus_histopatologicos=('AQ_GRAHIS', lambda x: list(x.unique()))\n",
    ").reset_index()\n",
    "\n",
    "# Exibir o resultado\n",
    "print(tabela_agrupada)"
   ]
  },
  {
   "cell_type": "code",
   "execution_count": 30,
   "metadata": {},
   "outputs": [
    {
     "name": "stdout",
     "output_type": "stream",
     "text": [
      "Arquivo CSV criado com sucesso!\n"
     ]
    }
   ],
   "source": [
    "# Criar o arquivo CSV a partir da tabela agrupada\n",
    "tabela_agrupada.to_csv('C:/Users/Rafael/OneDrive/Documentos/TCC Rafaela/CSV de Análise/tabela_agrupada.csv', index=False)\n",
    "\n",
    "# Mensagem para confirmar que o arquivo foi criado\n",
    "print(\"Arquivo CSV criado com sucesso!\")\n"
   ]
  },
  {
   "cell_type": "code",
   "execution_count": 32,
   "metadata": {},
   "outputs": [
    {
     "name": "stdout",
     "output_type": "stream",
     "text": [
      "  AP_UFMUN                             graus_histopatologicos\n",
      "0       ES  [GX, G2, G3, G1, G4, 1, 4, 3, 2, 7, 5, 6, 04, ...\n",
      "1       MG  [01, 03, 2, 02, 1, G1, G2, GX, 00, G3, 3, 0, X...\n",
      "2       RJ  [03, 02, G2, 00, G1, GX, ND, 3, 2, 1, 12, 4, X...\n",
      "3       SP  [03, 06, 01, G2, G1, 02, 09, G3, 00, GX, 4, 10...\n"
     ]
    }
   ],
   "source": [
    "\n",
    "# Passo 2: Agrupar por ano e listar os graus histopatológicos\n",
    "tabela_agrupada = df.groupby(['AP_UFMUN']).agg(\n",
    "    graus_histopatologicos=('AQ_GRAHIS', lambda x: list(x.unique()))\n",
    ").reset_index()\n",
    "\n",
    "# Exibir o resultado\n",
    "print(tabela_agrupada)"
   ]
  },
  {
   "cell_type": "code",
   "execution_count": 33,
   "metadata": {},
   "outputs": [
    {
     "name": "stdout",
     "output_type": "stream",
     "text": [
      "Arquivo CSV criado com sucesso!\n"
     ]
    }
   ],
   "source": [
    "# Criar o arquivo CSV a partir da tabela agrupada\n",
    "tabela_agrupada.to_csv('C:/Users/Rafael/OneDrive/Documentos/TCC Rafaela/CSV de Análise/tabela_agrupada_estado.csv', index=False)\n",
    "\n",
    "# Mensagem para confirmar que o arquivo foi criado\n",
    "print(\"Arquivo CSV criado com sucesso!\")\n"
   ]
  },
  {
   "cell_type": "code",
   "execution_count": 4,
   "metadata": {},
   "outputs": [
    {
     "data": {
      "image/png": "[encoded data removed]",
      "text/plain": [
       "<Figure size 1000x600 with 1 Axes>"
      ]
     },
     "metadata": {},
     "output_type": "display_data"
    }
   ],
   "source": [
    "import matplotlib.pyplot as plt\n",
    "\n",
    "# Contagem de quantos tratamentos ocorreram em cada estado (UF)\n",
    "estado_count = df['AP_UFMUN'].value_counts()\n",
    "\n",
    "# Plotando o gráfico de barras\n",
    "plt.figure(figsize=(10, 6))\n",
    "estado_count.plot(kind='bar', color='skyblue', edgecolor='black')\n",
    "\n",
    "# Definindo o título e os rótulos\n",
    "plt.title('Distribuição do Estado onde o Tratamento Foi Realizado')\n",
    "plt.xlabel('Estado (UF)')\n",
    "plt.ylabel('Número de Tratamentos')\n",
    "plt.xticks(rotation=45, ha='right', fontsize=10)  # Ajustando a rotação das labels para evitar sobreposição\n",
    "plt.tight_layout()  # Ajuste para evitar o corte de labels\n",
    "\n",
    "# Exibindo o gráfico\n",
    "plt.show()"
   ]
  }
 ],
 "metadata": {
  "kernelspec": {
   "display_name": "Python 3",
   "language": "python",
   "name": "python3"
  },
  "language_info": {
   "codemirror_mode": {
    "name": "ipython",
    "version": 3
   },
   "file_extension": ".py",
   "mimetype": "text/x-python",
   "name": "python",
   "nbconvert_exporter": "python",
   "pygments_lexer": "ipython3",
   "version": "3.13.1"
  }
 },
 "nbformat": 4,
 "nbformat_minor": 2
}
