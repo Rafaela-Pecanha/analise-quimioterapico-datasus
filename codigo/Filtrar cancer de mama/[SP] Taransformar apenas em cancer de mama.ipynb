{
 "cells": [
  {
   "cell_type": "markdown",
   "metadata": {},
   "source": [
    "Ler arquivos"
   ]
  },
  {
   "cell_type": "code",
   "execution_count": 1,
   "metadata": {},
   "outputs": [],
   "source": [
    "import pandas as pd\n",
    "import pickle\n",
    "\n",
    "# Carregar o DataFrame a partir do arquivo Pickle\n",
    "df = pd.read_pickle('C:/Users/Rafael/OneDrive/Documentos/TCC Rafaela/Dados/Pickle/arquivo_sp.pickle')\n",
    "df_1 = pd.read_pickle('C:/Users/Rafael/OneDrive/Documentos/TCC Rafaela/Dados/Pickle/arquivo_sp_2015.pickle')\n",
    "\n",
    "df=pd.concat([df, df_1])\n"
   ]
  },
  {
   "cell_type": "code",
   "execution_count": 2,
   "metadata": {},
   "outputs": [
    {
     "name": "stdout",
     "output_type": "stream",
     "text": [
      "<class 'pandas.core.frame.DataFrame'>\n",
      "Index: 12975289 entries, 0 to 996362\n",
      "Data columns (total 73 columns):\n",
      " #   Column      Dtype  \n",
      "---  ------      -----  \n",
      " 0   AP_MVM      int64  \n",
      " 1   AP_CONDIC   object \n",
      " 2   AP_GESTAO   int64  \n",
      " 3   AP_CODUNI   int64  \n",
      " 4   AP_AUTORIZ  int64  \n",
      " 5   AP_CMP      int64  \n",
      " 6   AP_PRIPAL   float64\n",
      " 7   AP_VL_AP    float64\n",
      " 8   AP_UFMUN    int64  \n",
      " 9   AP_TPUPS    int64  \n",
      " 10  AP_TIPPRE   int64  \n",
      " 11  AP_MN_IND   object \n",
      " 12  AP_CNPJCPF  int64  \n",
      " 13  AP_CNPJMNT  float64\n",
      " 14  AP_CNSPCN   object \n",
      " 15  AP_COIDADE  int64  \n",
      " 16  AP_NUIDADE  int64  \n",
      " 17  AP_SEXO     object \n",
      " 18  AP_RACACOR  int64  \n",
      " 19  AP_MUNPCN   float64\n",
      " 20  AP_UFNACIO  float64\n",
      " 21  AP_CEPPCN   int64  \n",
      " 22  AP_UFDIF    int64  \n",
      " 23  AP_MNDIF    int64  \n",
      " 24  AP_DTINIC   int64  \n",
      " 25  AP_DTFIM    int64  \n",
      " 26  AP_TPATEN   int64  \n",
      " 27  AP_TPAPAC   int64  \n",
      " 28  AP_MOTSAI   int64  \n",
      " 29  AP_OBITO    int64  \n",
      " 30  AP_ENCERR   int64  \n",
      " 31  AP_PERMAN   int64  \n",
      " 32  AP_ALTA     int64  \n",
      " 33  AP_TRANSF   int64  \n",
      " 34  AP_DTOCOR   float64\n",
      " 35  AP_CODEMI   object \n",
      " 36  AP_CATEND   float64\n",
      " 37  AP_UNISOL   object \n",
      " 38  AP_DTSOLIC  float64\n",
      " 39  AP_DTAUT    float64\n",
      " 40  AP_CIDCAS   object \n",
      " 41  AP_CIDPRI   object \n",
      " 42  AP_CIDSEC   object \n",
      " 43  AP_ETNIA    object \n",
      " 44  AQ_CID10    object \n",
      " 45  AQ_LINFIN   object \n",
      " 46  AQ_ESTADI   float64\n",
      " 47  AQ_GRAHIS   object \n",
      " 48  AQ_DTIDEN   float64\n",
      " 49  AQ_TRANTE   object \n",
      " 50  AQ_CIDINI1  object \n",
      " 51  AQ_DTINI1   object \n",
      " 52  AQ_CIDINI2  object \n",
      " 53  AQ_DTINI2   float64\n",
      " 54  AQ_CIDINI3  object \n",
      " 55  AQ_DTINI3   float64\n",
      " 56  AQ_CONTTR   object \n",
      " 57  AQ_DTINTR   object \n",
      " 58  AQ_ESQU_P1  object \n",
      " 59  AQ_TOTMPL   object \n",
      " 60  AQ_TOTMAU   object \n",
      " 61  AQ_ESQU_P2  object \n",
      " 62  AP_NATJUR   float64\n",
      " 63  AQ_MED01    float64\n",
      " 64  AQ_MED02    float64\n",
      " 65  AQ_MED03    float64\n",
      " 66  AQ_MED04    float64\n",
      " 67  AQ_MED05    float64\n",
      " 68  AQ_MED06    float64\n",
      " 69  AQ_MED07    float64\n",
      " 70  AQ_MED08    float64\n",
      " 71  AQ_MED09    float64\n",
      " 72  AQ_MED10    float64\n",
      "dtypes: float64(24), int64(25), object(24)\n",
      "memory usage: 7.2+ GB\n"
     ]
    }
   ],
   "source": [
    "df.describe().transpose()\n",
    "df.info()"
   ]
  },
  {
   "cell_type": "code",
   "execution_count": 2,
   "metadata": {},
   "outputs": [],
   "source": [
    "import re\n",
    "\n",
    "# Função para identificar o formato e remover o último número\n",
    "def remover_ultimo_numero(valor):\n",
    "    # Verifica se o valor corresponde ao formato \"letra + 3 números\"\n",
    "    if re.match(r'^[A-Za-z]\\d{3}$', valor):\n",
    "        # Retira o último número\n",
    "        return valor[:-1]\n",
    "    return valor\n",
    "\n",
    "\n",
    "df['CID_PRIN_FORMATADO'] = df['AP_CIDPRI'].apply(remover_ultimo_numero)\n"
   ]
  },
  {
   "cell_type": "code",
   "execution_count": 3,
   "metadata": {},
   "outputs": [],
   "source": [
    "\n",
    "# Cria um novo DataFrame filtrando as linhas onde a coluna 'CID_PRIN_FORMATADO' é 'C50'\n",
    "df_c50 = df[df['CID_PRIN_FORMATADO'] == 'C50']\n",
    "\n",
    "# Exibe o novo DataFrame\n",
    "# print(df_c50)\n",
    "\n"
   ]
  },
  {
   "cell_type": "code",
   "execution_count": 4,
   "metadata": {},
   "outputs": [],
   "source": [
    "dados_serializados = pickle.dumps(df_c50)\n",
    "with open('C:/Users/Rafael/OneDrive/Documentos/TCC Rafaela/Dados/Pickle/cancer_mama_sp.pickle', 'wb') as arquivo:\n",
    "    arquivo.write(dados_serializados)"
   ]
  },
  {
   "cell_type": "code",
   "execution_count": 6,
   "metadata": {},
   "outputs": [
    {
     "ename": "MemoryError",
     "evalue": "",
     "output_type": "error",
     "traceback": [
      "\u001b[1;31m---------------------------------------------------------------------------\u001b[0m",
      "\u001b[1;31mMemoryError\u001b[0m                               Traceback (most recent call last)",
      "Cell \u001b[1;32mIn[6], line 1\u001b[0m\n\u001b[1;32m----> 1\u001b[0m df \u001b[38;5;241m=\u001b[39m \u001b[43mpd\u001b[49m\u001b[38;5;241;43m.\u001b[39;49m\u001b[43mread_pickle\u001b[49m\u001b[43m(\u001b[49m\u001b[38;5;124;43m'\u001b[39;49m\u001b[38;5;124;43mC:/Users/Rafael/OneDrive/Documentos/TCC Rafaela/Dados/Pickle/cancer_mama_sp.pickle\u001b[39;49m\u001b[38;5;124;43m'\u001b[39;49m\u001b[43m)\u001b[49m\n\u001b[0;32m      2\u001b[0m df\u001b[38;5;241m.\u001b[39mdescribe()\u001b[38;5;241m.\u001b[39mtranspose()\n\u001b[0;32m      3\u001b[0m df\u001b[38;5;241m.\u001b[39minfo()\n",
      "File \u001b[1;32mc:\\Users\\Rafael\\AppData\\Local\\Programs\\Python\\Python313\\Lib\\site-packages\\pandas\\io\\pickle.py:202\u001b[0m, in \u001b[0;36mread_pickle\u001b[1;34m(filepath_or_buffer, compression, storage_options)\u001b[0m\n\u001b[0;32m    199\u001b[0m     \u001b[38;5;28;01mwith\u001b[39;00m warnings\u001b[38;5;241m.\u001b[39mcatch_warnings(record\u001b[38;5;241m=\u001b[39m\u001b[38;5;28;01mTrue\u001b[39;00m):\n\u001b[0;32m    200\u001b[0m         \u001b[38;5;66;03m# We want to silence any warnings about, e.g. moved modules.\u001b[39;00m\n\u001b[0;32m    201\u001b[0m         warnings\u001b[38;5;241m.\u001b[39msimplefilter(\u001b[38;5;124m\"\u001b[39m\u001b[38;5;124mignore\u001b[39m\u001b[38;5;124m\"\u001b[39m, \u001b[38;5;167;01mWarning\u001b[39;00m)\n\u001b[1;32m--> 202\u001b[0m         \u001b[38;5;28;01mreturn\u001b[39;00m \u001b[43mpickle\u001b[49m\u001b[38;5;241;43m.\u001b[39;49m\u001b[43mload\u001b[49m\u001b[43m(\u001b[49m\u001b[43mhandles\u001b[49m\u001b[38;5;241;43m.\u001b[39;49m\u001b[43mhandle\u001b[49m\u001b[43m)\u001b[49m\n\u001b[0;32m    203\u001b[0m \u001b[38;5;28;01mexcept\u001b[39;00m excs_to_catch:\n\u001b[0;32m    204\u001b[0m     \u001b[38;5;66;03m# e.g.\u001b[39;00m\n\u001b[0;32m    205\u001b[0m     \u001b[38;5;66;03m#  \"No module named 'pandas.core.sparse.series'\"\u001b[39;00m\n\u001b[0;32m    206\u001b[0m     \u001b[38;5;66;03m#  \"Can't get attribute '__nat_unpickle' on <module 'pandas._libs.tslib\"\u001b[39;00m\n\u001b[0;32m    207\u001b[0m     \u001b[38;5;28;01mreturn\u001b[39;00m pc\u001b[38;5;241m.\u001b[39mload(handles\u001b[38;5;241m.\u001b[39mhandle, encoding\u001b[38;5;241m=\u001b[39m\u001b[38;5;28;01mNone\u001b[39;00m)\n",
      "\u001b[1;31mMemoryError\u001b[0m: "
     ]
    }
   ],
   "source": [
    "df = pd.read_pickle('C:/Users/Rafael/OneDrive/Documentos/TCC Rafaela/Dados/Pickle/cancer_mama_sp.pickle')\n",
    "df.describe().transpose()\n",
    "df.info()"
   ]
  }
 ],
 "metadata": {
  "kernelspec": {
   "display_name": "Python 3",
   "language": "python",
   "name": "python3"
  },
  "language_info": {
   "codemirror_mode": {
    "name": "ipython",
    "version": 3
   },
   "file_extension": ".py",
   "mimetype": "text/x-python",
   "name": "python",
   "nbconvert_exporter": "python",
   "pygments_lexer": "ipython3",
   "version": "3.13.1"
  }
 },
 "nbformat": 4,
 "nbformat_minor": 2
}
