{
 "cells": [
  {
   "cell_type": "markdown",
   "metadata": {},
   "source": [
    "Ler arquivos"
   ]
  },
  {
   "cell_type": "code",
   "execution_count": 1,
   "metadata": {},
   "outputs": [],
   "source": [
    "import pandas as pd\n",
    "\n",
    "\n",
    "# SP\n",
    "tabela_quimioterapia_sp_2008 = pd.read_csv('C:/Users/Rafael/OneDrive/Documentos/TCC Rafaela/Dados/SP/Quimioterapia_sp_2008.csv', encoding='ISO-8859-1', low_memory=False)\n",
    "tabela_quimioterapia_sp_2009 = pd.read_csv('C:/Users/Rafael/OneDrive/Documentos/TCC Rafaela/Dados/SP/Quimioterapia_sp_2009.csv', encoding='ISO-8859-1', low_memory=False)\n",
    "tabela_quimioterapia_sp_2010 = pd.read_csv('C:/Users/Rafael/OneDrive/Documentos/TCC Rafaela/Dados/SP/Quimioterapia_sp_2010.csv', encoding='ISO-8859-1', low_memory=False)\n",
    "tabela_quimioterapia_sp_2011 = pd.read_csv('C:/Users/Rafael/OneDrive/Documentos/TCC Rafaela/Dados/SP/Quimioterapia_sp_2011.csv', encoding='ISO-8859-1', low_memory=False)\n",
    "tabela_quimioterapia_sp_2012 = pd.read_csv('C:/Users/Rafael/OneDrive/Documentos/TCC Rafaela/Dados/SP/Quimioterapia_sp_2012.csv', encoding='ISO-8859-1', low_memory=False)\n",
    "tabela_quimioterapia_sp_2013 = pd.read_csv('C:/Users/Rafael/OneDrive/Documentos/TCC Rafaela/Dados/SP/Quimioterapia_sp_2013.csv', encoding='ISO-8859-1', low_memory=False)\n",
    "tabela_quimioterapia_sp_2014 = pd.read_csv('C:/Users/Rafael/OneDrive/Documentos/TCC Rafaela/Dados/SP/Quimioterapia_sp_2014.csv', encoding='ISO-8859-1', low_memory=False)\n",
    "tabela_quimioterapia_sp_2016 = pd.read_csv('C:/Users/Rafael/OneDrive/Documentos/TCC Rafaela/Dados/SP/Quimioterapia_sp_2016.csv', encoding='ISO-8859-1', low_memory=False)\n",
    "tabela_quimioterapia_sp_2017 = pd.read_csv('C:/Users/Rafael/OneDrive/Documentos/TCC Rafaela/Dados/SP/Quimioterapia_sp_2017.csv', encoding='ISO-8859-1', low_memory=False)\n",
    "tabela_quimioterapia_sp_2018 = pd.read_csv('C:/Users/Rafael/OneDrive/Documentos/TCC Rafaela/Dados/SP/Quimioterapia_sp_2018.csv', encoding='ISO-8859-1', low_memory=False)\n",
    "tabela_quimioterapia_sp_2019 = pd.read_csv('C:/Users/Rafael/OneDrive/Documentos/TCC Rafaela/Dados/SP/Quimioterapia_sp_2019.csv', encoding='ISO-8859-1', low_memory=False)\n",
    "tabela_quimioterapia_sp_2020 = pd.read_csv('C:/Users/Rafael/OneDrive/Documentos/TCC Rafaela/Dados/SP/Quimioterapia_sp_2020.csv', encoding='ISO-8859-1', low_memory=False)\n",
    "tabela_quimioterapia_sp_2021 = pd.read_csv('C:/Users/Rafael/OneDrive/Documentos/TCC Rafaela/Dados/SP/Quimioterapia_sp_2021.csv', encoding='ISO-8859-1', low_memory=False)\n",
    "tabela_quimioterapia_sp_2022 = pd.read_csv('C:/Users/Rafael/OneDrive/Documentos/TCC Rafaela/Dados/SP/Quimioterapia_sp_2022.csv', encoding='ISO-8859-1', low_memory=False)\n",
    "tabela_quimioterapia_sp_2023 = pd.read_csv('C:/Users/Rafael/OneDrive/Documentos/TCC Rafaela/Dados/SP/Quimioterapia_sp_2023.csv', encoding='ISO-8859-1', low_memory=False)\n",
    "tabela_quimioterapia_sp_2024 = pd.read_csv('C:/Users/Rafael/OneDrive/Documentos/TCC Rafaela/Dados/SP/Quimioterapia_sp_2024.csv', encoding='ISO-8859-1', low_memory=False)\n",
    "tabela_quimioterapia_sp_12_2024 = pd.read_csv('C:/Users/Rafael/OneDrive/Documentos/TCC Rafaela/Dados/SP/Quimioterapia_sp_12_2024.csv', encoding='ISO-8859-1', low_memory=False)\n",
    "\n",
    "\n",
    "df=pd.concat([tabela_quimioterapia_sp_2008, tabela_quimioterapia_sp_2009, tabela_quimioterapia_sp_2010,\n",
    "    tabela_quimioterapia_sp_2011, tabela_quimioterapia_sp_2012, tabela_quimioterapia_sp_2013,\n",
    "    tabela_quimioterapia_sp_2014, tabela_quimioterapia_sp_2016,\n",
    "    tabela_quimioterapia_sp_2017, tabela_quimioterapia_sp_2018, tabela_quimioterapia_sp_2019,\n",
    "    tabela_quimioterapia_sp_2020, tabela_quimioterapia_sp_2021, tabela_quimioterapia_sp_2022,\n",
    "    tabela_quimioterapia_sp_2023, tabela_quimioterapia_sp_2024,  tabela_quimioterapia_sp_12_2024])"
   ]
  },
  {
   "cell_type": "code",
   "execution_count": 2,
   "metadata": {},
   "outputs": [],
   "source": [
    "import pickle\n",
    "\n",
    "df.drop(['AP_APACANT'], axis=1, inplace=True)\n",
    "\n",
    "dados_serializados = pickle.dumps(df)\n",
    "with open('C:/Users/Rafael/OneDrive/Documentos/TCC Rafaela/Dados/Pickle/arquivo_sp.pickle', 'wb') as arquivo:\n",
    "    arquivo.write(dados_serializados)"
   ]
  },
  {
   "cell_type": "code",
   "execution_count": 4,
   "metadata": {},
   "outputs": [],
   "source": [
    "tabela_quimioterapia_sp_2015 = pd.read_csv(\n",
    "    'C:/Users/Rafael/OneDrive/Documentos/TCC Rafaela/Dados/SP/Quimioterapia_sp_2015.csv',\n",
    "    encoding='ISO-8859-1',\n",
    "    low_memory=False,\n",
    "    delimiter=',',\n",
    "    on_bad_lines='skip'\n",
    ")\n",
    "\n",
    "tabela_quimioterapia_sp_2015.drop(['AP_APACANT'], axis=1, inplace=True)\n",
    "\n",
    "\n",
    "dados_serializados = pickle.dumps(df)\n",
    "with open('C:/Users/Rafael/OneDrive/Documentos/TCC Rafaela/Dados/Pickle/arquivo_sp_2015.pickle', 'wb') as arquivo:\n",
    "    arquivo.write(dados_serializados)\n",
    "\n"
   ]
  }
 ],
 "metadata": {
  "kernelspec": {
   "display_name": "Python 3",
   "language": "python",
   "name": "python3"
  },
  "language_info": {
   "codemirror_mode": {
    "name": "ipython",
    "version": 3
   },
   "file_extension": ".py",
   "mimetype": "text/x-python",
   "name": "python",
   "nbconvert_exporter": "python",
   "pygments_lexer": "ipython3",
   "version": "3.13.1"
  }
 },
 "nbformat": 4,
 "nbformat_minor": 2
}
