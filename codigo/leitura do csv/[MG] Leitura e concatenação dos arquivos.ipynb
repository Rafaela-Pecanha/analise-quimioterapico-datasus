{
 "cells": [
  {
   "cell_type": "markdown",
   "metadata": {},
   "source": [
    "Ler arquivos"
   ]
  },
  {
   "cell_type": "code",
   "execution_count": 1,
   "metadata": {},
   "outputs": [],
   "source": [
    "import pandas as pd\n",
    "\n",
    "\n",
    "# MG\n",
    "\n",
    "tabela_quimioterapia_mg_2008 = pd.read_csv('C:/Users/Rafael/OneDrive/Documentos/TCC Rafaela/Dados/MG/Quimioterapia_mg_2008.csv', encoding='ISO-8859-1', low_memory=False)\n",
    "tabela_quimioterapia_mg_2009 = pd.read_csv('C:/Users/Rafael/OneDrive/Documentos/TCC Rafaela/Dados/MG/Quimioterapia_mg_2009.csv', encoding='ISO-8859-1', low_memory=False)\n",
    "tabela_quimioterapia_mg_2010 = pd.read_csv('C:/Users/Rafael/OneDrive/Documentos/TCC Rafaela/Dados/MG/Quimioterapia_mg_2010.csv', encoding='ISO-8859-1', low_memory=False)\n",
    "tabela_quimioterapia_mg_2011 = pd.read_csv('C:/Users/Rafael/OneDrive/Documentos/TCC Rafaela/Dados/MG/Quimioterapia_mg_2011.csv', encoding='ISO-8859-1', low_memory=False)\n",
    "tabela_quimioterapia_mg_2012 = pd.read_csv('C:/Users/Rafael/OneDrive/Documentos/TCC Rafaela/Dados/MG/Quimioterapia_mg_2012.csv', encoding='ISO-8859-1', low_memory=False)\n",
    "tabela_quimioterapia_mg_2013 = pd.read_csv('C:/Users/Rafael/OneDrive/Documentos/TCC Rafaela/Dados/MG/Quimioterapia_mg_2013.csv', encoding='ISO-8859-1', low_memory=False)\n",
    "tabela_quimioterapia_mg_2014 = pd.read_csv('C:/Users/Rafael/OneDrive/Documentos/TCC Rafaela/Dados/MG/Quimioterapia_mg_2014.csv', encoding='ISO-8859-1', low_memory=False)\n",
    "tabela_quimioterapia_mg_2015 = pd.read_csv('C:/Users/Rafael/OneDrive/Documentos/TCC Rafaela/Dados/MG/Quimioterapia_mg_2015.csv', encoding='ISO-8859-1', low_memory=False)\n",
    "tabela_quimioterapia_mg_2016 = pd.read_csv('C:/Users/Rafael/OneDrive/Documentos/TCC Rafaela/Dados/MG/Quimioterapia_mg_2016.csv', encoding='ISO-8859-1', low_memory=False)\n",
    "tabela_quimioterapia_mg_2017 = pd.read_csv('C:/Users/Rafael/OneDrive/Documentos/TCC Rafaela/Dados/MG/Quimioterapia_mg_2017.csv', encoding='ISO-8859-1', low_memory=False)\n",
    "tabela_quimioterapia_mg_2018 = pd.read_csv('C:/Users/Rafael/OneDrive/Documentos/TCC Rafaela/Dados/MG/Quimioterapia_mg_2018.csv', encoding='ISO-8859-1', low_memory=False)\n",
    "tabela_quimioterapia_mg_2019 = pd.read_csv('C:/Users/Rafael/OneDrive/Documentos/TCC Rafaela/Dados/MG/Quimioterapia_mg_2019.csv', encoding='ISO-8859-1', low_memory=False)\n",
    "tabela_quimioterapia_mg_2020 = pd.read_csv('C:/Users/Rafael/OneDrive/Documentos/TCC Rafaela/Dados/MG/Quimioterapia_mg_2020.csv', encoding='ISO-8859-1', low_memory=False)\n",
    "tabela_quimioterapia_mg_2021 = pd.read_csv('C:/Users/Rafael/OneDrive/Documentos/TCC Rafaela/Dados/MG/Quimioterapia_mg_2021.csv', encoding='ISO-8859-1', low_memory=False)\n",
    "tabela_quimioterapia_mg_2022 = pd.read_csv('C:/Users/Rafael/OneDrive/Documentos/TCC Rafaela/Dados/MG/Quimioterapia_mg_2022.csv', encoding='ISO-8859-1', low_memory=False)\n",
    "tabela_quimioterapia_mg_2023 = pd.read_csv('C:/Users/Rafael/OneDrive/Documentos/TCC Rafaela/Dados/MG/Quimioterapia_mg_2023.csv', encoding='ISO-8859-1', low_memory=False)\n",
    "tabela_quimioterapia_mg_2024 = pd.read_csv('C:/Users/Rafael/OneDrive/Documentos/TCC Rafaela/Dados/MG/Quimioterapia_mg_2024.csv', encoding='ISO-8859-1', low_memory=False)\n",
    "tabela_quimioterapia_mg_12_2024 = pd.read_csv('C:/Users/Rafael/OneDrive/Documentos/TCC Rafaela/Dados/MG/Quimioterapia_mg_12_2024.csv', encoding='ISO-8859-1', low_memory=False)\n",
    "\n",
    "df=pd.concat([tabela_quimioterapia_mg_2008,\n",
    "    tabela_quimioterapia_mg_2009, tabela_quimioterapia_mg_2010, tabela_quimioterapia_mg_2011,\n",
    "    tabela_quimioterapia_mg_2012, tabela_quimioterapia_mg_2013, tabela_quimioterapia_mg_2014,\n",
    "    tabela_quimioterapia_mg_2015, tabela_quimioterapia_mg_2016, tabela_quimioterapia_mg_2017,\n",
    "    tabela_quimioterapia_mg_2018, tabela_quimioterapia_mg_2019, tabela_quimioterapia_mg_2020,\n",
    "    tabela_quimioterapia_mg_2021, tabela_quimioterapia_mg_2022, tabela_quimioterapia_mg_2023,\n",
    "    tabela_quimioterapia_mg_2024, tabela_quimioterapia_mg_12_2024])"
   ]
  },
  {
   "cell_type": "code",
   "execution_count": 2,
   "metadata": {},
   "outputs": [],
   "source": [
    "import pickle\n",
    "\n",
    "df.drop(['AP_APACANT'], axis=1, inplace=True)\n",
    "\n",
    "dados_serializados = pickle.dumps(df)\n",
    "with open('C:/Users/Rafael/OneDrive/Documentos/TCC Rafaela/Dados/Pickle/arquivo_mg.pickle', 'wb') as arquivo:\n",
    "    arquivo.write(dados_serializados)"
   ]
  }
 ],
 "metadata": {
  "kernelspec": {
   "display_name": "Python 3",
   "language": "python",
   "name": "python3"
  },
  "language_info": {
   "codemirror_mode": {
    "name": "ipython",
    "version": 3
   },
   "file_extension": ".py",
   "mimetype": "text/x-python",
   "name": "python",
   "nbconvert_exporter": "python",
   "pygments_lexer": "ipython3",
   "version": "3.13.1"
  }
 },
 "nbformat": 4,
 "nbformat_minor": 2
}
